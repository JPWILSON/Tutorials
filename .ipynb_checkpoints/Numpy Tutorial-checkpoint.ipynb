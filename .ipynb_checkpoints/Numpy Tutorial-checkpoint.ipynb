{
 "cells": [
  {
   "cell_type": "markdown",
   "metadata": {},
   "source": [
    "## General \n",
    "\n",
    "Numpy is cool because its a library in Python for fast maths (in C). So, it makes large calculations as lot faster that if you did them in Python. \n",
    "### 1. Deep Learning Foundations - Lesson 7: Numpy\n",
    "### Data Dimensions\n",
    "\n",
    "Looking at the shapes that data has: \n",
    "\n",
    "* Scalars:\n",
    "    * Have a **dimension** of **0** \n",
    "    * Zero dimensional shape \n",
    "* Vectors: \n",
    "    * Row or column vectorsn(\n",
    "    * Like a python array\n",
    "    * Eg: x=[2, 3, 4], or y = [2]\n",
    "    * They have a **dimension** of **1**\n",
    "* Matrices: \n",
    "    * 2D grid of values\n",
    "    * Describe its shape ito 2 nos - row and cols \n",
    "* Tensor: \n",
    "    * Any higher dimnesion\n",
    "\n",
    "Will mostly work with Scalars and matrices, but sometimes vectors as well. \n",
    "    \n",
    "## Numpy \n",
    "\n",
    "* **ndarray** objects are similar to Python lists, but can have **any no. of** dimensions.\n",
    "* Vectors make use of the **array** type, NOT **ndarray**\n",
    "* scalars in numpy let you specify unsigned and signed types, AND the size, so:\n",
    "    * instead of just int, float, etc in Python,\n",
    "    * uint8, int8, uint16, int16, float32, etc \n",
    "* The above is important as every object (scalar, matrix, tensor) eventually stores scalars. \n",
    "* Every item in a numpy array **must have same type**\n",
    "* See below for checking: \n",
    "    * Shape\n",
    "    * Type \n"
   ]
  },
  {
   "cell_type": "code",
   "execution_count": 11,
   "metadata": {
    "collapsed": false
   },
   "outputs": [
    {
     "name": "stdout",
     "output_type": "stream",
     "text": [
      "()\n",
      "int32\n"
     ]
    }
   ],
   "source": [
    "import numpy as np \n",
    "\n",
    "#ndarray\n",
    "s = np.array(50)\n",
    "print(s.shape)\n",
    "\n",
    "x = s + 5 \n",
    "print(x.dtype)\n"
   ]
  },
  {
   "cell_type": "markdown",
   "metadata": {},
   "source": [
    "** Vectors **\n",
    "\n",
    "For Vectors, just use numpy array: "
   ]
  },
  {
   "cell_type": "code",
   "execution_count": 13,
   "metadata": {
    "collapsed": false
   },
   "outputs": [
    {
     "name": "stdout",
     "output_type": "stream",
     "text": [
      "(3,)\n"
     ]
    }
   ],
   "source": [
    "v = np.array([1,2,3])\n",
    "print(v.shape)"
   ]
  },
  {
   "cell_type": "markdown",
   "metadata": {},
   "source": [
    "** Matrices **"
   ]
  },
  {
   "cell_type": "code",
   "execution_count": 10,
   "metadata": {
    "collapsed": false
   },
   "outputs": [
    {
     "name": "stdout",
     "output_type": "stream",
     "text": [
      "4\n"
     ]
    }
   ],
   "source": [
    "m = np.array([[1,2,3], [4,5,6], [7,8,9]])\n",
    "print(m[1][0])"
   ]
  },
  {
   "cell_type": "markdown",
   "metadata": {},
   "source": [
    "**Tensors**\n",
    "\n",
    "Giving an eg: \n",
    "* showing how to make one \n",
    "* showing the shape\n",
    "* printing from certain index (goes from outer to inner matrix/ tensor)"
   ]
  },
  {
   "cell_type": "code",
   "execution_count": 24,
   "metadata": {
    "collapsed": false
   },
   "outputs": [
    {
     "name": "stdout",
     "output_type": "stream",
     "text": [
      "(3, 3, 2, 1)\n",
      "[6]\n",
      "   \n",
      "[[[ 3]\n",
      "  [ 4]]\n",
      "\n",
      " [[ 3]\n",
      "  [ 6]]\n",
      "\n",
      " [[ 3]\n",
      "  [32]]] [1] [1] [0]\n"
     ]
    }
   ],
   "source": [
    "t = np.array([[[[3],[4]], [[3],[4]], [[3],[4]]],\\\n",
    "              [[[9],[4]], [[2],[4]], [[54],[4]]],\\\n",
    "              [[[3],[4]], [[3],[6]], [[3],[32]]],])\n",
    "print(t.shape)\n",
    "print(t[[2],[1],[1],[0]])\n",
    "print(\"   \")\n",
    "print(t[2],[1],[1],[0])"
   ]
  },
  {
   "cell_type": "markdown",
   "metadata": {},
   "source": [
    "### Element-wise math\n",
    "\n",
    "* Addition is how you would think: \n",
    "    * Matrices/ tensors need to be **same** shape \n",
    "    * Add each element\n",
    "    * Can also add a scalar to matrix (will just add the scalar to each \n",
    "      matrix element.\n",
    "* Multiplication \n",
    "    * **np.matmul(b, a)** is used for this \n",
    "    * **ONLY for 2D (not higher): ** np.matmul(a,b) = np.dot(a,b)\n",
    "    * no. cols on left matrix **must** equal no. rows on right\n",
    "    * row of **left** matrix times col of **right** matrix.\n",
    "    * MatrixA x MatrixB !+ MatrixB x Matrix A \n",
    "    * Can multpiply it by a scalar \n",
    "* Transpose: \n",
    "    * Really swapping cols and rows \n",
    "    * Be careful of this! \n",
    "    * Manipulation is useful but only sometimes good, sometimes bad:\n",
    "        Basic rule of thumb:\n",
    "        * only take transpose in matrix mult if data in both original \n",
    "        matrices is arranged as rows. \n",
    "        * Again, ONLY take transpose, if you understand how the data is organised. \n",
    "    "
   ]
  },
  {
   "cell_type": "markdown",
   "metadata": {},
   "source": [
    "## 2. Tutorialspoint Numpy Tutorial\n",
    "\n",
    "http://www.tutorialspoint.com/numpy/"
   ]
  },
  {
   "cell_type": "code",
   "execution_count": null,
   "metadata": {
    "collapsed": true
   },
   "outputs": [],
   "source": []
  }
 ],
 "metadata": {
  "kernelspec": {
   "display_name": "Python 3",
   "language": "python",
   "name": "python3"
  },
  "language_info": {
   "codemirror_mode": {
    "name": "ipython",
    "version": 3
   },
   "file_extension": ".py",
   "mimetype": "text/x-python",
   "name": "python",
   "nbconvert_exporter": "python",
   "pygments_lexer": "ipython3",
   "version": "3.5.2"
  }
 },
 "nbformat": 4,
 "nbformat_minor": 2
}
