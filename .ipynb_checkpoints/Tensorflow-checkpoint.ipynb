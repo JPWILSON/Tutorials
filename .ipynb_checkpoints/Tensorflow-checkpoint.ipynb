{
 "cells": [
  {
   "cell_type": "markdown",
   "metadata": {},
   "source": [
    "## Tensorflow \n",
    "* **I work through tensorflow** to get a handle on the basics of it, and how it works. \n",
    "* Will refer back to this, like a cheat sheet in the future.\n",
    "\n",
    "### General notes\n",
    "* tf provides multiple APIs\n",
    "* lowest level API - TensorFlow Core\n",
    "* A **tensor** is centrl unit of data\n",
    "- Consists of set of primitive vals shaped into array of any no of dimensions\n",
    "- ie, has a shape, and rank (no of dimensions), Some examples:\n",
    "\n",
    "\n",
    "'''        3  a rank 0 tensor; this is a scalar with shape []\n",
    "\n",
    "    [1. ,2., 3.] # a rank 1 tensor; this is a vector with shape [3]\n",
    "\n",
    "    [[1., 2., 3.], [4., 5., 6.]] # a rank 2 tensor; a matrix with shape [2, 3]\n",
    "\n",
    "    [[[1., 2., 3.]], [[7., 8., 9.]]] # a rank 3 tensor with shape [2, 1, 3]\n",
    "'''\n",
    " \n",
    " \n",
    " \n",
    " "
   ]
  },
  {
   "cell_type": "code",
   "execution_count": 1,
   "metadata": {
    "collapsed": true
   },
   "outputs": [],
   "source": [
    "import tensorflow as tf"
   ]
  },
  {
   "cell_type": "markdown",
   "metadata": {},
   "source": [
    "* tf core programs consist of 2 discrete sections\n",
    "* i: Building the computational graph\n",
    "* ii: Running the computational graph\n",
    "* Can make constant tnesors"
   ]
  },
  {
   "cell_type": "code",
   "execution_count": 3,
   "metadata": {
    "collapsed": false
   },
   "outputs": [
    {
     "name": "stdout",
     "output_type": "stream",
     "text": [
      "Tensor(\"Const:0\", shape=(), dtype=float32) Tensor(\"Const_1:0\", shape=(), dtype=float32)\n"
     ]
    }
   ],
   "source": [
    "node1= tf.constant(3.0, tf.float32)\n",
    "node2 = tf.constant(4.0, tf.float32)\n",
    "print(node1, node2)"
   ]
  },
  {
   "cell_type": "markdown",
   "metadata": {},
   "source": [
    "Did not print the values. \n",
    "* For that, need to create a **session** and run the graph with the two nodes within this session."
   ]
  },
  {
   "cell_type": "code",
   "execution_count": 4,
   "metadata": {
    "collapsed": false
   },
   "outputs": [
    {
     "name": "stdout",
     "output_type": "stream",
     "text": [
      "[3.0, 4.0]\n"
     ]
    }
   ],
   "source": [
    "sess = tf.Session()\n",
    "print(sess.run([node1, node2]))"
   ]
  },
  {
   "cell_type": "markdown",
   "metadata": {},
   "source": [
    "* Can use operations to make more complex operations from our **tensor** nodes.\n",
    "* Note that operations are also nodes."
   ]
  },
  {
   "cell_type": "code",
   "execution_count": 6,
   "metadata": {
    "collapsed": false
   },
   "outputs": [
    {
     "name": "stdout",
     "output_type": "stream",
     "text": [
      "node3:  Tensor(\"add_1:0\", shape=(), dtype=float32)\n",
      "sess.run(node3):  7.0\n"
     ]
    }
   ],
   "source": [
    "node3 = node1 + node2 #Or, node3 = tf.add(node1, node2)\n",
    "print(\"node3: \", node3)\n",
    "print(\"sess.run(node3): \", sess.run(node3))"
   ]
  },
  {
   "cell_type": "markdown",
   "metadata": {},
   "source": [
    "Above always produces a constant result. Need a new type of tensor that can be parametrized to accept external inputs, known as **placeholders**. Basically a promise to provide value later. "
   ]
  },
  {
   "cell_type": "code",
   "execution_count": 7,
   "metadata": {
    "collapsed": true
   },
   "outputs": [],
   "source": [
    "a = tf.placeholder(tf.float32)\n",
    "b = tf.placeholder(tf.float32)\n",
    "adder_node = a + b # Or, adder_node = tf.add(a,b)"
   ]
  },
  {
   "cell_type": "markdown",
   "metadata": {},
   "source": [
    "To make use of these placeholders, we need to usethe feed_dict parameter to specify the tensors that provide the values to these placeholders. "
   ]
  },
  {
   "cell_type": "code",
   "execution_count": 8,
   "metadata": {
    "collapsed": false
   },
   "outputs": [
    {
     "name": "stdout",
     "output_type": "stream",
     "text": [
      "21.0\n",
      "[ 28.  28.  28.]\n",
      "10.0\n"
     ]
    }
   ],
   "source": [
    "print(sess.run(adder_node, feed_dict={a: 7.0, b: 14.0}))\n",
    "print(sess.run(adder_node, feed_dict={a:[7, 14, 21], b:[21, 14, 7]}))\n",
    "#Note, don't have to say, 'feed_dict' but it keeps things clear for me.\n",
    "print(sess.run(adder_node, {a:3, b:7}))"
   ]
  },
  {
   "cell_type": "markdown",
   "metadata": {},
   "source": [
    "Can just keep increasing the complexity by adding more operations: "
   ]
  },
  {
   "cell_type": "code",
   "execution_count": null,
   "metadata": {
    "collapsed": true
   },
   "outputs": [],
   "source": []
  }
 ],
 "metadata": {
  "kernelspec": {
   "display_name": "Python 3",
   "language": "python",
   "name": "python3"
  },
  "language_info": {
   "codemirror_mode": {
    "name": "ipython",
    "version": 3
   },
   "file_extension": ".py",
   "mimetype": "text/x-python",
   "name": "python",
   "nbconvert_exporter": "python",
   "pygments_lexer": "ipython3",
   "version": "3.5.2"
  }
 },
 "nbformat": 4,
 "nbformat_minor": 2
}
